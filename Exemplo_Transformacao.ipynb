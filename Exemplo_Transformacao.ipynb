{
  "cells": [
    {
      "cell_type": "markdown",
      "metadata": {
        "id": "view-in-github",
        "colab_type": "text"
      },
      "source": [
        "<a href=\"https://colab.research.google.com/github/rodrigospicker1/Exemplo_Transformacao/blob/main/Exemplo_Transformacao.ipynb\" target=\"_parent\"><img src=\"https://colab.research.google.com/assets/colab-badge.svg\" alt=\"Open In Colab\"/></a>"
      ]
    },
    {
      "cell_type": "markdown",
      "metadata": {
        "id": "WhZZ4pWiNx7l"
      },
      "source": [
        "Universidade do Vale do Itajaí<br>\n",
        "Rodrigo Spicker e Victor Hugo\n"
      ]
    },
    {
      "cell_type": "markdown",
      "metadata": {
        "id": "8KzyJbE-Nx7q"
      },
      "source": [
        "## Conversão de imagem RGB em imagem Grayscale"
      ]
    },
    {
      "cell_type": "code",
      "execution_count": 2,
      "metadata": {
        "id": "SPRHcibRNx7s"
      },
      "outputs": [],
      "source": [
        "import cv2 # Importa a biblioteca OpenCV, usada para processamento de imagens e vídeos\n",
        "import numpy as np #Importa a biblioteca NumPy, usado para matrizes e operações numéricas\n",
        "import matplotlib.pyplot as plt #Importa a biblioteca Matplotlib, usada para exibir gráficos e imagens\n",
        "#caso for usar o Google Colab com a OpenCV, usar a lib abaixo\n",
        "from google.colab.patches import cv2_imshow #Import cv2_imshow, linha é específica para o Colab, função cv2_imshow exibi imagens\n"
      ]
    },
    {
      "cell_type": "code",
      "execution_count": null,
      "metadata": {
        "id": "QotrNpurNx7u"
      },
      "outputs": [],
      "source": [
        "#abrir a imagem\n",
        "img = cv2.imread('t1.jpg',1) # Abri imagem 't1.jpg', número 1 para carregala com cores\n",
        "#caso for usar o Google Colab com a OpenCV,\n",
        "cv2_imshow(img) #Exibi a imagem carregado"
      ]
    },
    {
      "cell_type": "code",
      "execution_count": null,
      "metadata": {
        "id": "VLSzKpTtNx7v"
      },
      "outputs": [],
      "source": [
        "#mostrando a imagem colorida - caso você use Python no seu computador\n",
        "#reutilize para exibir as imagens em outros códigos\n",
        "#Voce pode descomentar o código apagando as aspas simples\n",
        "'''\n",
        "cv2.imshow('in', img)\n",
        "cv2.waitKey(0)\n",
        "cv2.destroyAllWindows()\n",
        "'''"
      ]
    },
    {
      "cell_type": "code",
      "execution_count": null,
      "metadata": {
        "id": "G2Q1PN3QNx7y"
      },
      "outputs": [],
      "source": [
        "#aplicando conversão ponderada - converte imagem colorida para preto e branco\n",
        "#img_grayscale_basic = 0.299*img[ : , : ,0] + 0.587*img[ : , : ,1] + 0.114*img[ : , : ,2]\n",
        "\n",
        "#cv2\n",
        "B, G, R = cv2.split(img) #Dividindo a imagem em cores: Azul -> B, Verde -> G e Vermelho -> R\n",
        "img_grayscale_pondered = 0.299*B+0.587*G+0.114*R #Converte imagem para tons de cinza, cada pixel é multiplicado pelos valores de ponderação (0,299 para o canal Azul, 0,587 para o canal Verde e 0,114 para o canal Vermelho) e somados. O resultado é armazenado na variável\n",
        "\n",
        "img_grayscale_pondered = np.array(img_grayscale_pondered, dtype=np.uint8) #Converte matriz em um array NumPy com o tipo de dados uint8\n",
        "cv2_imshow(img_grayscale_pondered) #Exibe imagem em cinzas ponderados\n"
      ]
    },
    {
      "cell_type": "markdown",
      "metadata": {
        "id": "bA2JoZjXNx78"
      },
      "source": [
        "## Transformações"
      ]
    },
    {
      "cell_type": "code",
      "execution_count": null,
      "metadata": {
        "id": "QGSulCVYNx78"
      },
      "outputs": [],
      "source": [
        "#negativo\n",
        "\n",
        "#img_negative[ : , : ,0] = 255 - img[ : , : ,0]\n",
        "#img_negative[ : , : ,1] = 255 - img[ : , : ,1]\n",
        "#img_negative[ : , : ,2] = 255 - img[ : , : ,2]\n",
        "\n",
        "#Mude a variavel colorida para 1 caso queira colorida, o para 0 caso queira em escala de cinza\n",
        "colorida = 1\n",
        "img_in = cv2.imread('t1.jpg',colorida) #Lê imagem 't1.jpg' e difine ela como colorida\n",
        "\n",
        "img_out = 255 - img_in # Cria imagem 'img_out' invertendo os valores do pixel da imagem img_in. Gera o negativo da imagem.\n",
        "\n",
        "cv2_imshow(img_in) #Exibe imagem de entrada img_in\n",
        "cv2_imshow(img_out) #Exibe negatico da imagem"
      ]
    },
    {
      "cell_type": "code",
      "execution_count": null,
      "metadata": {
        "id": "HMELaw10Nx8B"
      },
      "outputs": [],
      "source": [
        "#contraste e brilho\n",
        "img_in = cv2.imread('t1.jpg',0) #Lê imagem 't1.jpg', porem usando 0 que significa carregar a imagem com escalas de cinza.\n",
        "#altere os valores tanto de a quanto de b\n",
        "\n",
        "a = -1 #Variáveis usadas para fazer o contraste da imagem\n",
        "b = 1\n",
        "\n",
        "img_out = a*img_in + b #Aplicando uma transformação linear na imagem de entrada img_in para ajustar o contraste. Cada pixel da imagem é multiplicado por a e somado a b. Isso pode aumentar ou diminuir o contraste da imagem, dependendo dos valores de a e b.\n",
        "\n",
        "img_out = np.array(img_out, dtype = np.uint8) #Converte a matriz resultante img_out em um array NumPy com o tipo de dados uint8, que é usado para imagens em tons de cinza.\n",
        "\n",
        "cv2_imshow(img_in) #Exibe imagem de entrada img_in\n",
        "cv2_imshow(img_out) #Exibe negatico da imagem"
      ]
    },
    {
      "cell_type": "markdown",
      "metadata": {
        "id": "W8UZXLnRNx8E"
      },
      "source": [
        "## Filtro Espacial"
      ]
    },
    {
      "cell_type": "code",
      "execution_count": null,
      "metadata": {
        "id": "hWxjlsd9Nx8F"
      },
      "outputs": [],
      "source": [
        "#suavização\n",
        "#você pode ler sobre o conceito aqui: https://docs.opencv.org/4.x/d4/d13/tutorial_py_filtering.html\n",
        "img_in = cv2.imread('t1.jpg',0) #Lê imagem 't1.jpg', porem usando 0 que significa carregar a imagem com escalas de cinza\n",
        "\n",
        "kernel = np.ones((5,5),np.float32)/25 #Cria um kernel, que é uma matriz utilizada em operações de convolução\n",
        "\n",
        "img_out_1 = cv2.filter2D(img_in,-1,kernel) #Aplica uma operação de filtragem na imagem. O valor -1 indica que a saída da convolução será do mesmo tipo que a imagem de entrada\n",
        "\n",
        "\n",
        "cv2_imshow(img_in) #Exibe imagem de entrada img_in\n",
        "cv2_imshow(img_out_1) #Exibe negatico da imagem\n",
        "\n"
      ]
    }
  ],
  "metadata": {
    "kernelspec": {
      "display_name": "Python 3",
      "name": "python3"
    },
    "language_info": {
      "codemirror_mode": {
        "name": "ipython",
        "version": 3
      },
      "file_extension": ".py",
      "mimetype": "text/x-python",
      "name": "python",
      "nbconvert_exporter": "python",
      "pygments_lexer": "ipython3",
      "version": "3.8.5"
    },
    "colab": {
      "provenance": [],
      "gpuType": "T4",
      "include_colab_link": true
    },
    "accelerator": "GPU"
  },
  "nbformat": 4,
  "nbformat_minor": 0
}